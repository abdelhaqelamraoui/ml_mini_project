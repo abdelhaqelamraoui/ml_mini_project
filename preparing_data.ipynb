{
   "cells": [
      {
         "cell_type": "markdown",
         "metadata": {},
         "source": [
            "## **Imports**"
         ]
      },
      {
         "cell_type": "code",
         "execution_count": 62,
         "metadata": {},
         "outputs": [],
         "source": [
            "import pandas as pd\n",
            "from sklearn.preprocessing import OrdinalEncoder, OneHotEncoder\n",
            "from sklearn.preprocessing import StandardScaler\n",
            "import os\n",
            "import joblib\n",
            "from sklearn.model_selection import train_test_split"
         ]
      },
      {
         "cell_type": "markdown",
         "metadata": {},
         "source": [
            "## **Loading Data** "
         ]
      },
      {
         "cell_type": "code",
         "execution_count": 63,
         "metadata": {},
         "outputs": [],
         "source": [
            "df = pd.read_csv('data/data_cleaned.csv')"
         ]
      },
      {
         "cell_type": "markdown",
         "metadata": {},
         "source": [
            "## **Data Spliting**"
         ]
      },
      {
         "cell_type": "code",
         "execution_count": 64,
         "metadata": {},
         "outputs": [
            {
               "name": "stdout",
               "output_type": "stream",
               "text": [
                  "(22597, 27)\n",
                  "(32282,)\n"
               ]
            }
         ],
         "source": [
            "X = df.drop(columns='prix')\n",
            "y = df['prix']\n",
            "\n",
            "X_train,X_test, y_train, y_test = train_test_split(X, y, test_size=0.3, random_state=42)\n",
            "\n",
            "print(X_train.shape)\n",
            "print(y.shape)"
         ]
      },
      {
         "cell_type": "markdown",
         "metadata": {},
         "source": [
            "## **Encoding**"
         ]
      },
      {
         "cell_type": "markdown",
         "metadata": {},
         "source": [
            "#### **One Hot Encoding**"
         ]
      },
      {
         "cell_type": "code",
         "execution_count": null,
         "metadata": {},
         "outputs": [],
         "source": []
      },
      {
         "cell_type": "code",
         "execution_count": 65,
         "metadata": {},
         "outputs": [],
         "source": [
            "oneHotEncoder = OneHotEncoder(sparse_output=False, handle_unknown='ignore')\n",
            "\n",
            "cols = [\n",
            "    'boite-de-vitesses',\n",
            "    'type-de-carburant',\n",
            "    'marque',\n",
            "    'modele',\n",
            "    'origine'\n",
            "]\n",
            "\n",
            "X_train_cols_encoded = oneHotEncoder.fit_transform(X_train[cols])\n",
            "X_test_cols_encoded = oneHotEncoder.transform(X_test[cols])\n",
            "\n",
            "X_train_encoded = pd.DataFrame(\n",
            "    X_train_cols_encoded,\n",
            "    columns=oneHotEncoder.get_feature_names_out(cols),\n",
            "    index=X_train.index\n",
            ")\n",
            "\n",
            "X_test_encoded = pd.DataFrame(\n",
            "    X_test_cols_encoded,\n",
            "    columns=oneHotEncoder.get_feature_names_out(cols),\n",
            "    index=X_test.index\n",
            ")\n",
            "\n",
            "X_train = X_train.drop(columns=cols)\n",
            "X_test = X_test.drop(columns=cols)\n",
            "\n",
            "X_train = pd.concat([X_train, X_train_encoded], axis=1)\n",
            "X_test = pd.concat([X_test, X_test_encoded], axis=1)"
         ]
      },
      {
         "cell_type": "markdown",
         "metadata": {},
         "source": [
            "#### **Ordinal Encoding**"
         ]
      },
      {
         "cell_type": "code",
         "execution_count": 66,
         "metadata": {},
         "outputs": [
            {
               "data": {
                  "text/plain": [
                     "array(['Très bon', 'Excellent', 'Bon', 'Neuf', 'Correct', 'Endommagé',\n",
                     "       'Pour Pièces'], dtype=object)"
                  ]
               },
               "execution_count": 66,
               "metadata": {},
               "output_type": "execute_result"
            }
         ],
         "source": [
            "X_train['etat'].unique()"
         ]
      },
      {
         "cell_type": "code",
         "execution_count": 67,
         "metadata": {},
         "outputs": [
            {
               "data": {
                  "text/plain": [
                     "<bound method NDFrame.head of 24851    3.0\n",
                     "14615    3.0\n",
                     "26759    4.0\n",
                     "12272    4.0\n",
                     "14412    3.0\n",
                     "        ... \n",
                     "9390     5.0\n",
                     "26803    5.0\n",
                     "4660     5.0\n",
                     "6300     5.0\n",
                     "695      4.0\n",
                     "Name: etat, Length: 9685, dtype: float64>"
                  ]
               },
               "execution_count": 67,
               "metadata": {},
               "output_type": "execute_result"
            }
         ],
         "source": [
            "# Ordinal encoding with explicit order\n",
            "etats_ordonnees = [\n",
            "    'Pour Pièces',\n",
            "    'Endommagé',\n",
            "    'Correct',\n",
            "    'Bon',\n",
            "    'Très bon',\n",
            "    'Excellent',\n",
            "    'Neuf'\n",
            "]\n",
            "\n",
            "ordinalEncoder = OrdinalEncoder(categories=[etats_ordonnees], handle_unknown='use_encoded_value', unknown_value=-1)\n",
            "\n",
            "X_train['etat'] = ordinalEncoder.fit_transform(X_train[['etat']])\n",
            "X_test['etat'] = ordinalEncoder.transform(X_test[['etat']])\n",
            "\n",
            "X_test['etat'].head"
         ]
      },
      {
         "cell_type": "code",
         "execution_count": 68,
         "metadata": {},
         "outputs": [],
         "source": [
            "# boolean_columns = X_train.select_dtypes(include=['bool']).columns.tolist()\n",
            "# X_train[boolean_columns] = X_train[boolean_columns].replace({True: 1, False: 0})\n",
            "\n",
            "# X_train.head()"
         ]
      },
      {
         "cell_type": "markdown",
         "metadata": {},
         "source": [
            "## **Standarization**"
         ]
      },
      {
         "cell_type": "code",
         "execution_count": 69,
         "id": "bce889d8",
         "metadata": {},
         "outputs": [],
         "source": [
            "scaler = StandardScaler()\n",
            "\n",
            "cols_to_standardize = [\n",
            "    'kilometrage',\n",
            "    'puissance-fiscale',\n",
            "    'age',\n",
            "]\n",
            "\n",
            "X_train[cols_to_standardize] = scaler.fit_transform(X_train[cols_to_standardize])\n",
            "X_test[cols_to_standardize] = scaler.transform(X_test[cols_to_standardize])"
         ]
      },
      {
         "cell_type": "markdown",
         "metadata": {},
         "source": [
            "## **Saving**"
         ]
      },
      {
         "cell_type": "code",
         "execution_count": 70,
         "metadata": {},
         "outputs": [],
         "source": [
            "X_train.to_csv('data/X_train.csv', index=False)\n",
            "X_test.to_csv('data/X_test.csv', index=False)\n",
            "y_train.to_csv('data/y_train.csv', index=False)\n",
            "y_test.to_csv('data/y_test.csv', index=False)"
         ]
      },
      {
         "cell_type": "code",
         "execution_count": 72,
         "metadata": {},
         "outputs": [
            {
               "data": {
                  "text/plain": [
                     "['models/scaler.pkl']"
                  ]
               },
               "execution_count": 72,
               "metadata": {},
               "output_type": "execute_result"
            }
         ],
         "source": [
            "model_dir = 'models'\n",
            "os.makedirs(model_dir, exist_ok=True)\n",
            "joblib.dump(ordinalEncoder, 'models/ordinal_encoder.pkl')\n",
            "joblib.dump(oneHotEncoder, 'models/one_hot_encoder.pkl')\n",
            "joblib.dump(scaler, 'models/scaler.pkl')"
         ]
      }
   ],
   "metadata": {
      "kernelspec": {
         "display_name": "Python 3",
         "language": "python",
         "name": "python3"
      },
      "language_info": {
         "codemirror_mode": {
            "name": "ipython",
            "version": 3
         },
         "file_extension": ".py",
         "mimetype": "text/x-python",
         "name": "python",
         "nbconvert_exporter": "python",
         "pygments_lexer": "ipython3",
         "version": "3.12.4"
      }
   },
   "nbformat": 4,
   "nbformat_minor": 2
}
