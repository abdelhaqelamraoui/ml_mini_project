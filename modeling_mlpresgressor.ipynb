{
   "cells": [
      {
         "cell_type": "code",
         "execution_count": 17,
         "metadata": {},
         "outputs": [],
         "source": [
            "import pandas as pd\n",
            "import joblib\n",
            "from sklearn.neural_network import MLPRegressor\n",
            "from sklearn.metrics import mean_absolute_error, r2_score, mean_squared_error, root_mean_squared_error\n",
            "import os"
         ]
      },
      {
         "cell_type": "code",
         "execution_count": 2,
         "metadata": {},
         "outputs": [],
         "source": [
            "X_train = pd.read_csv('data/X_train.csv')\n",
            "X_test = pd.read_csv('data/X_test.csv')\n",
            "y_train = pd.read_csv('data/y_train.csv')\n",
            "y_test = pd.read_csv('data/y_test.csv')\n",
            "\n",
            "# y_train = np.log1p(y_train)\n",
            "# y_test = np.log1p(y_test)\n",
            "y_train = y_train.values.ravel()\n",
            "y_test = y_test.values.ravel()"
         ]
      },
      {
         "cell_type": "markdown",
         "metadata": {},
         "source": [
            "# **Modeling**"
         ]
      },
      {
         "cell_type": "code",
         "execution_count": 6,
         "metadata": {},
         "outputs": [
            {
               "name": "stderr",
               "output_type": "stream",
               "text": [
                  "c:\\Users\\gray-owl\\AppData\\Local\\Programs\\Python\\Python312\\Lib\\site-packages\\sklearn\\neural_network\\_multilayer_perceptron.py:691: ConvergenceWarning: Stochastic Optimizer: Maximum iterations (500) reached and the optimization hasn't converged yet.\n",
                  "  warnings.warn(\n"
               ]
            }
         ],
         "source": [
            "model = MLPRegressor(hidden_layer_sizes=(128, 64), max_iter=500, random_state=42)\n",
            "history = model.fit(X_train, y_train)"
         ]
      },
      {
         "cell_type": "code",
         "execution_count": 19,
         "metadata": {},
         "outputs": [
            {
               "name": "stdout",
               "output_type": "stream",
               "text": [
                  "MAE : 14701.096274397625\n",
                  "MSE : 664534089.9128206\n",
                  "RMSE: 25778.558724506314\n",
                  "R²  : 0.9027917695331066\n"
               ]
            }
         ],
         "source": [
            "y_pred = model.predict(X_test)\n",
            "print(\"MAE  :\", mean_absolute_error(y_test, y_pred))\n",
            "print(\"MSE  :\", mean_squared_error(y_test, y_pred))\n",
            "print(\"RMSE :\", root_mean_squared_error(y_test, y_pred))\n",
            "print(\"R²   :\", r2_score(y_test, y_pred))\n",
            "\n",
            "# R²  : 0.9081435759105094\n",
            "# R²  : 0.9081507117188165  (feature selection: 0.9)\n",
            "# R²  : 0.9081435759105094  (feature selection: 0.8)"
         ]
      },
      {
         "cell_type": "code",
         "execution_count": 23,
         "metadata": {},
         "outputs": [],
         "source": [
            "models_result = pd.DataFrame({\n",
            "    'Model': ['MLPRegressor'],\n",
            "    'MAE': [mean_absolute_error(y_test, y_pred)],\n",
            "    'MSE': [mean_squared_error(y_test, y_pred)],\n",
            "    'RMSE': [root_mean_squared_error(y_test, y_pred)],\n",
            "    'R²': [r2_score(y_test, y_pred)]\n",
            "})\n",
            "models_result.to_csv('data/model_result_mlpregressor.csv', index=False)"
         ]
      },
      {
         "cell_type": "markdown",
         "metadata": {},
         "source": [
            "# **Saving**"
         ]
      },
      {
         "cell_type": "code",
         "execution_count": 12,
         "metadata": {},
         "outputs": [
            {
               "data": {
                  "text/plain": [
                     "['models\\\\mlpregressor_model.pkl']"
                  ]
               },
               "execution_count": 12,
               "metadata": {},
               "output_type": "execute_result"
            }
         ],
         "source": [
            "# save the model\n",
            "model_dir = 'models'\n",
            "os.makedirs(model_dir, exist_ok=True)\n",
            "model_path = os.path.join(model_dir, 'mlpregressor_model.pkl')\n",
            "joblib.dump(model, model_path)"
         ]
      }
   ],
   "metadata": {
      "kernelspec": {
         "display_name": "Python 3",
         "language": "python",
         "name": "python3"
      },
      "language_info": {
         "codemirror_mode": {
            "name": "ipython",
            "version": 3
         },
         "file_extension": ".py",
         "mimetype": "text/x-python",
         "name": "python",
         "nbconvert_exporter": "python",
         "pygments_lexer": "ipython3",
         "version": "3.12.4"
      }
   },
   "nbformat": 4,
   "nbformat_minor": 2
}
