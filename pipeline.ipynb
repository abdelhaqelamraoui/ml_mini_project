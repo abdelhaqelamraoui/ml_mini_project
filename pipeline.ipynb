{
 "cells": [
  {
   "cell_type": "markdown",
   "metadata": {},
   "source": [
    "### Imports"
   ]
  },
  {
   "cell_type": "code",
   "execution_count": 6,
   "metadata": {},
   "outputs": [
    {
     "name": "stdout",
     "output_type": "stream",
     "text": [
      "Pipeline saved to models/final_pipeline.pkl\n"
     ]
    }
   ],
   "source": [
    "import pandas as pd\n",
    "import joblib\n",
    "from sklearn.base import BaseEstimator, TransformerMixin\n",
    "from sklearn.pipeline import Pipeline\n",
    "from sklearn.compose import ColumnTransformer"
   ]
  },
  {
   "cell_type": "markdown",
   "metadata": {},
   "source": [
    "### Build and Save a Unified Pipeline Using Saved Components"
   ]
  },
  {
   "cell_type": "code",
   "execution_count": 14,
   "metadata": {},
   "outputs": [
    {
     "name": "stdout",
     "output_type": "stream",
     "text": [
      "Pipeline saved to models/final_pipeline.pkl\n"
     ]
    }
   ],
   "source": [
    "# === 1. Custom Transformer to Drop Columns ===\n",
    "\n",
    "\n",
    "class DataTransformer(BaseEstimator, TransformerMixin):\n",
    "    def __init__(self, columns_to_drop):\n",
    "        self.columns_to_drop = columns_to_drop\n",
    "\n",
    "    def fit(self, X, y=None):\n",
    "        return self\n",
    "\n",
    "    def transform(self, X):\n",
    "        X.drop(self.columns_to_drop, axis=1, errors='ignore', inplace=True)\n",
    "        return X\n",
    "\n",
    "# === 2. Load Previously Trained Components ===\n",
    "ordinal_encoder = joblib.load('models/ordinal_encoder.pkl')\n",
    "onehot_encoder = joblib.load('models/one_hot_encoder.pkl')\n",
    "scaler = joblib.load('models/scaler.pkl')\n",
    "feature_selector = joblib.load('models/feature_selector.pkl')\n",
    "model = joblib.load('models/random_forest_model.pkl')\n",
    "\n",
    "# === 3. Define Columns for Each Transformer ===\n",
    "columns_to_drop = ['titre', 'localisation', 'annee-modele']\n",
    "\n",
    "ordinal_columns = ['etat']\n",
    "onehot_columns = ['boite-de-vitesses',\n",
    "                  'type-de-carburant', 'marque', 'modele', 'origine']\n",
    "numerical_columns = ['kilometrage', 'age', 'puissance-fiscale']  #  commented out\n",
    "\n",
    "# === 4. Create ColumnTransformer (using your fitted transformers) ===\n",
    "preprocessor = ColumnTransformer(transformers=[\n",
    "    ('onehot', onehot_encoder, onehot_columns),\n",
    "    ('ordinal', ordinal_encoder, ordinal_columns),\n",
    "    ('scaler', scaler, numerical_columns)\n",
    "])\n",
    "\n",
    "# === 5. Build the Full Pipeline including feature selection ===\n",
    "pipeline = Pipeline([\n",
    "    ('drop_cols', DataTransformer(columns_to_drop)),\n",
    "    ('preprocess', preprocessor),\n",
    "    ('feature_selection', feature_selector),\n",
    "    ('model', model)\n",
    "])\n",
    "\n",
    "df = pd.read_csv('data/data_cleaned.csv')\n",
    "X = df.drop(columns=['prix'])\n",
    "y = df['prix']\n",
    "# Fit the pipeline to the data\n",
    "pipeline.fit(X, y)\n",
    "\n",
    "# === 6. Save the Full Pipeline ===\n",
    "joblib.dump(pipeline, 'models/final_pipeline.pkl')\n",
    "print(\"Pipeline saved to models/final_pipeline.pkl\")"
   ]
  },
  {
   "cell_type": "markdown",
   "metadata": {},
   "source": [
    "### Load pipeline and predict"
   ]
  },
  {
   "cell_type": "code",
   "execution_count": 15,
   "metadata": {},
   "outputs": [
    {
     "name": "stdout",
     "output_type": "stream",
     "text": [
      "Prediction: 170021.0\n"
     ]
    }
   ],
   "source": [
    "# === 1. Load the saved pipeline ===\n",
    "pipeline = joblib.load('models/final_pipeline.pkl')\n",
    "\n",
    "# === 2. Load or prepare your input data ===\n",
    "# For example, a new sample or test data\n",
    "# Replace this with your real test data\n",
    "data = pd.DataFrame([{\n",
    "    'etat': 'bon',\n",
    "    'boite-de-vitesses': 'manuelle',\n",
    "    'type-de-carburant': 'essence',\n",
    "    'marque': 'renault',\n",
    "    'modele': 'clio',\n",
    "    'origine': 'maroc',\n",
    "    'kilometrage': 120000,\n",
    "    'age': 5,\n",
    "    'puissance-fiscale': 6,\n",
    "    'annee-modele': '2018'\n",
    "}])\n",
    "\n",
    "# === 3. Predict with the full pipeline ===\n",
    "predictions = pipeline.predict(data)\n",
    "\n",
    "# === 4. Show results ===\n",
    "print(\"Prediction:\", predictions[0])"
   ]
  }
 ],
 "metadata": {
  "kernelspec": {
   "display_name": "Python 3",
   "language": "python",
   "name": "python3"
  },
  "language_info": {
   "codemirror_mode": {
    "name": "ipython",
    "version": 3
   },
   "file_extension": ".py",
   "mimetype": "text/x-python",
   "name": "python",
   "nbconvert_exporter": "python",
   "pygments_lexer": "ipython3",
   "version": "3.12.4"
  }
 },
 "nbformat": 4,
 "nbformat_minor": 2
}
