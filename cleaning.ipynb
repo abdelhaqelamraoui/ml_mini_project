{
   "cells": [
      {
         "cell_type": "markdown",
         "metadata": {},
         "source": [
            "### **Imports**"
         ]
      },
      {
         "cell_type": "code",
         "execution_count": 914,
         "metadata": {},
         "outputs": [],
         "source": [
            "import pandas as pd\n",
            "import matplotlib.pyplot as plt\n",
            "import seaborn as sns\n",
            "import missingno as msno\n",
            "import re\n",
            "import numpy as np\n",
            "from sklearn.ensemble import IsolationForest\n",
            "from sklearn.impute import SimpleImputer"
         ]
      },
      {
         "cell_type": "markdown",
         "metadata": {},
         "source": [
            "### **Loading and Exploration**"
         ]
      },
      {
         "cell_type": "code",
         "execution_count": 915,
         "metadata": {},
         "outputs": [
            {
               "name": "stderr",
               "output_type": "stream",
               "text": [
                  "C:\\Users\\gray-owl\\AppData\\Local\\Temp\\ipykernel_4608\\561397643.py:1: DtypeWarning: Columns (3) have mixed types. Specify dtype option on import or set low_memory=False.\n",
                  "  df_raw = pd.read_csv('data/data.csv')\n"
               ]
            }
         ],
         "source": [
            "df_raw = pd.read_csv('data/data.csv')"
         ]
      },
      {
         "cell_type": "markdown",
         "metadata": {},
         "source": [
            "### **Formattage des colonnes**"
         ]
      },
      {
         "cell_type": "markdown",
         "metadata": {},
         "source": [
            "**Format column names**"
         ]
      },
      {
         "cell_type": "code",
         "execution_count": 916,
         "metadata": {},
         "outputs": [
            {
               "data": {
                  "text/plain": [
                     "Index(['titre', 'localisation', 'prix', 'annee-modele'], dtype='object')"
                  ]
               },
               "execution_count": 916,
               "metadata": {},
               "output_type": "execute_result"
            }
         ],
         "source": [
            "# mettre les nom des colonnes sous forme de xxx-yyy\n",
            "cols = df_raw.columns.str.lower()\n",
            "cols = cols.str.replace(r'\\W', '-', regex=True)\n",
            "cols = cols.str.replace(r'à', 'a', regex=True)\n",
            "cols = cols.str.replace(r'é|è', 'e', regex=True)\n",
            "\n",
            "df_clean = df_raw.copy()\n",
            "df_clean.columns = cols\n",
            "df_clean.columns[:4]"
         ]
      },
      {
         "cell_type": "markdown",
         "metadata": {},
         "source": [
            "**prix**"
         ]
      },
      {
         "cell_type": "code",
         "execution_count": 917,
         "metadata": {},
         "outputs": [
            {
               "name": "stdout",
               "output_type": "stream",
               "text": [
                  "0     78000\n",
                  "1    170000\n",
                  "Name: prix, dtype: Int64\n"
               ]
            }
         ],
         "source": [
            "df_p = df_clean.copy()\n",
            "\n",
            "prix = df_clean['prix'].str.extract(r\"(.*)\\s*DH\")[0]\n",
            "prix_clean = prix.str.replace(r'\\s+', '', regex=True)\n",
            "df_p['prix'] = prix_clean.astype('Int64')  # Nullable Int64 type\n",
            "\n",
            "print(df_p['prix'].head(2))"
         ]
      },
      {
         "cell_type": "code",
         "execution_count": 918,
         "metadata": {},
         "outputs": [
            {
               "data": {
                  "text/plain": [
                     "0        250 000 - 299 999\n",
                     "1          25 000 - 29 999\n",
                     "2        300 000 - 349 999\n",
                     "3          15 000 - 19 999\n",
                     "4        180 000 - 189 999\n",
                     "               ...        \n",
                     "34194    100 000 - 109 999\n",
                     "34195                  NaN\n",
                     "34196                  NaN\n",
                     "34197                  NaN\n",
                     "34198                  NaN\n",
                     "Name: kilometrage, Length: 34199, dtype: object"
                  ]
               },
               "execution_count": 918,
               "metadata": {},
               "output_type": "execute_result"
            }
         ],
         "source": [
            "df_p['kilometrage']"
         ]
      },
      {
         "cell_type": "markdown",
         "metadata": {},
         "source": [
            "**kilometrage moyen**"
         ]
      },
      {
         "cell_type": "code",
         "execution_count": 919,
         "metadata": {},
         "outputs": [
            {
               "name": "stdout",
               "output_type": "stream",
               "text": [
                  "0    275000\n",
                  "1     27500\n",
                  "2    325000\n",
                  "3     17500\n",
                  "4    185000\n",
                  "Name: kilometrage, dtype: Int64\n"
               ]
            }
         ],
         "source": [
            "df_km = df_p.copy()\n",
            "\n",
            "# Step 1: Remove whitespace\n",
            "km_col = df_p['kilometrage'].str.replace(r'\\s', '', regex=True)\n",
            "\n",
            "# Step 2: Try to extract ranges like \"250000-299999\"\n",
            "range_df = km_col.str.extract(r'(\\d+)-(\\d+)').astype(float)\n",
            "km_mean = range_df.mean(axis=1)\n",
            "\n",
            "# Step 3: Fallback — extract any number (e.g., \"Plusde500000\")\n",
            "fallback = km_col.str.extract(r'(\\d+)').astype(float)\n",
            "km_mean.fillna(fallback[0], inplace=True)\n",
            "\n",
            "# Step 4: Assign cleaned values\n",
            "df_km['kilometrage'] = km_mean.round().astype('Int64')\n",
            "\n",
            "\n",
            "print(df_km['kilometrage'].head())"
         ]
      },
      {
         "cell_type": "markdown",
         "metadata": {},
         "source": [
            "**Convertir la puissance fiscale en un entier**"
         ]
      },
      {
         "cell_type": "code",
         "execution_count": 920,
         "metadata": {},
         "outputs": [
            {
               "data": {
                  "text/plain": [
                     "0    6\n",
                     "1    5\n",
                     "2    8\n",
                     "3    8\n",
                     "4    6\n",
                     "Name: puissance-fiscale, dtype: Int64"
                  ]
               },
               "execution_count": 920,
               "metadata": {},
               "output_type": "execute_result"
            }
         ],
         "source": [
            "df_pf = df_km.copy()\n",
            "\n",
            "df_pf['puissance-fiscale'] = df_km['puissance-fiscale'].str.replace(r'\\D', '', regex=True)\n",
            "df_pf['puissance-fiscale'] = pd.to_numeric(df_pf['puissance-fiscale']).astype('Int64', errors='ignore')\n",
            "df_pf['puissance-fiscale'].head()"
         ]
      },
      {
         "cell_type": "markdown",
         "metadata": {},
         "source": [
            "**annee-model**"
         ]
      },
      {
         "cell_type": "code",
         "execution_count": 921,
         "metadata": {},
         "outputs": [
            {
               "data": {
                  "text/plain": [
                     "0    2010\n",
                     "1    2023\n",
                     "2    2005\n",
                     "3    2020\n",
                     "4    2015\n",
                     "Name: annee-modele, dtype: Int64"
                  ]
               },
               "execution_count": 921,
               "metadata": {},
               "output_type": "execute_result"
            }
         ],
         "source": [
            "df_am = df_pf.copy()\n",
            "\n",
            "def extract_year(val):\n",
            "    if isinstance(val, str):\n",
            "        match = re.search(r'\\d{4}', val)\n",
            "        return int(match.group()) if match else np.nan\n",
            "    elif isinstance(val, float) and not np.isnan(val):\n",
            "        return int(val)\n",
            "    elif isinstance(val, int):\n",
            "        return val\n",
            "    return np.nan\n",
            "\n",
            "df_am['annee-modele'] = df_am['annee-modele'].apply(extract_year).astype('Int64')\n",
            "\n",
            "df_am['annee-modele'].head()"
         ]
      },
      {
         "cell_type": "markdown",
         "metadata": {},
         "source": [
            "**Premiere main**"
         ]
      },
      {
         "cell_type": "code",
         "execution_count": 922,
         "metadata": {},
         "outputs": [
            {
               "data": {
                  "text/plain": [
                     "0    False\n",
                     "1    False\n",
                     "2    False\n",
                     "3     True\n",
                     "4    False\n",
                     "Name: premiere-main, dtype: boolean"
                  ]
               },
               "execution_count": 922,
               "metadata": {},
               "output_type": "execute_result"
            }
         ],
         "source": [
            "df_pm = df_am.copy()\n",
            "\n",
            "df_pm['premiere-main'] = (\n",
            "    df_am['premiere-main']\n",
            "    .astype(str)\n",
            "    .str.strip()\n",
            "    .str.lower()\n",
            "    .replace({'oui': True, 'non': False})\n",
            "    .where(lambda x: x.isin([True, False]), pd.NA)\n",
            "    .astype('boolean')\n",
            ")\n",
            "\n",
            "df_pm['premiere-main'].head()"
         ]
      },
      {
         "cell_type": "markdown",
         "metadata": {},
         "source": [
            "**nombre-de-portes**"
         ]
      },
      {
         "cell_type": "code",
         "execution_count": 923,
         "metadata": {},
         "outputs": [
            {
               "data": {
                  "text/plain": [
                     "0    5\n",
                     "1    5\n",
                     "2    5\n",
                     "3    5\n",
                     "4    5\n",
                     "Name: nombre-de-portes, dtype: Int64"
                  ]
               },
               "execution_count": 923,
               "metadata": {},
               "output_type": "execute_result"
            }
         ],
         "source": [
            "df_np = df_pm.copy()\n",
            "\n",
            "df_np['nombre-de-portes'] = df_np['nombre-de-portes'].astype('Int64')\n",
            "df_np['nombre-de-portes'].head()"
         ]
      },
      {
         "cell_type": "code",
         "execution_count": 924,
         "metadata": {},
         "outputs": [
            {
               "name": "stdout",
               "output_type": "stream",
               "text": [
                  "<class 'pandas.core.frame.DataFrame'>\n",
                  "RangeIndex: 34199 entries, 0 to 34198\n",
                  "Data columns (total 30 columns):\n",
                  " #   Column                              Non-Null Count  Dtype  \n",
                  "---  ------                              --------------  -----  \n",
                  " 0   titre                               33854 non-null  object \n",
                  " 1   localisation                        33738 non-null  object \n",
                  " 2   prix                                33736 non-null  Int64  \n",
                  " 3   annee-modele                        33640 non-null  Int64  \n",
                  " 4   boite-de-vitesses                   33493 non-null  object \n",
                  " 5   type-de-carburant                   33642 non-null  object \n",
                  " 6   kilometrage                         33629 non-null  Int64  \n",
                  " 7   marque                              33628 non-null  object \n",
                  " 8   modele                              33628 non-null  object \n",
                  " 9   nombre-de-portes                    29896 non-null  Int64  \n",
                  " 10  origine                             29614 non-null  object \n",
                  " 11  premiere-main                       29038 non-null  boolean\n",
                  " 12  puissance-fiscale                   33476 non-null  Int64  \n",
                  " 13  etat                                32328 non-null  object \n",
                  " 14  abs                                 34199 non-null  bool   \n",
                  " 15  airbags                             34199 non-null  bool   \n",
                  " 16  cd-mp3-bluetooth                    34199 non-null  bool   \n",
                  " 17  camera-de-recul                     34199 non-null  bool   \n",
                  " 18  climatisation                       34199 non-null  bool   \n",
                  " 19  esp                                 34199 non-null  bool   \n",
                  " 20  jantes-aluminium                    34199 non-null  bool   \n",
                  " 21  limiteur-de-vitesse                 34199 non-null  bool   \n",
                  " 22  ordinateur-de-bord                  34199 non-null  bool   \n",
                  " 23  radar-de-recul                      34199 non-null  bool   \n",
                  " 24  regulateur-de-vitesse               34199 non-null  bool   \n",
                  " 25  sieges-cuir                         34199 non-null  bool   \n",
                  " 26  systeme-de-navigation-gps           34199 non-null  bool   \n",
                  " 27  toit-ouvrant                        34199 non-null  bool   \n",
                  " 28  verrouillage-centralise-a-distance  34199 non-null  bool   \n",
                  " 29  vitres-electriques                  34199 non-null  bool   \n",
                  "dtypes: Int64(5), bool(16), boolean(1), object(8)\n",
                  "memory usage: 4.1+ MB\n"
               ]
            }
         ],
         "source": [
            "df_np.info()"
         ]
      },
      {
         "cell_type": "markdown",
         "metadata": {},
         "source": [
            "### **Imputation**"
         ]
      },
      {
         "cell_type": "code",
         "execution_count": 925,
         "metadata": {},
         "outputs": [
            {
               "data": {
                  "text/plain": [
                     "premiere-main        5161.0\n",
                     "origine              4585.0\n",
                     "nombre-de-portes     4303.0\n",
                     "etat                 1871.0\n",
                     "puissance-fiscale     723.0\n",
                     "boite-de-vitesses     706.0\n",
                     "modele                571.0\n",
                     "marque                571.0\n",
                     "kilometrage           570.0\n",
                     "annee-modele          559.0\n",
                     "type-de-carburant     557.0\n",
                     "prix                  463.0\n",
                     "localisation          461.0\n",
                     "titre                 345.0\n",
                     "dtype: float64"
                  ]
               },
               "execution_count": 925,
               "metadata": {},
               "output_type": "execute_result"
            }
         ],
         "source": [
            "df_imp = df_np.copy()\n",
            "df_imp.isna().sum().where(lambda x: x > 0).dropna().sort_values(ascending=False)"
         ]
      },
      {
         "cell_type": "markdown",
         "metadata": {},
         "source": [
            "#### origine"
         ]
      },
      {
         "cell_type": "code",
         "execution_count": 926,
         "metadata": {},
         "outputs": [
            {
               "data": {
                  "text/plain": [
                     "np.int64(0)"
                  ]
               },
               "execution_count": 926,
               "metadata": {},
               "output_type": "execute_result"
            }
         ],
         "source": [
            "df_imp['origine'] = df_imp['origine'].fillna(df_imp['origine'].mode()[0])\n",
            "df_imp['origine'].isna().sum()"
         ]
      },
      {
         "cell_type": "markdown",
         "metadata": {},
         "source": [
            "#### nombre-de-portes"
         ]
      },
      {
         "cell_type": "code",
         "execution_count": 927,
         "metadata": {},
         "outputs": [
            {
               "data": {
                  "text/plain": [
                     "np.int64(0)"
                  ]
               },
               "execution_count": 927,
               "metadata": {},
               "output_type": "execute_result"
            }
         ],
         "source": [
            "df_imp['nombre-de-portes'] = df_imp['nombre-de-portes'].fillna(df_imp['nombre-de-portes'].mode()[0])\n",
            "df_imp['nombre-de-portes'].isna().sum()"
         ]
      },
      {
         "cell_type": "markdown",
         "metadata": {},
         "source": [
            "#### type-de-carburant"
         ]
      },
      {
         "cell_type": "code",
         "execution_count": 928,
         "metadata": {},
         "outputs": [
            {
               "data": {
                  "text/plain": [
                     "np.int64(0)"
                  ]
               },
               "execution_count": 928,
               "metadata": {},
               "output_type": "execute_result"
            }
         ],
         "source": [
            "df_imp['type-de-carburant'] = df_imp['type-de-carburant'].fillna(df_imp['type-de-carburant'].mode()[0])\n",
            "df_imp['type-de-carburant'].isna().sum()"
         ]
      },
      {
         "cell_type": "markdown",
         "metadata": {},
         "source": [
            "#### kilometrage"
         ]
      },
      {
         "cell_type": "code",
         "execution_count": 929,
         "metadata": {},
         "outputs": [
            {
               "data": {
                  "text/plain": [
                     "np.int64(0)"
                  ]
               },
               "execution_count": 929,
               "metadata": {},
               "output_type": "execute_result"
            }
         ],
         "source": [
            "df_imp['kilometrage'] = df_imp['kilometrage'].fillna(df_imp['kilometrage'].mode()[0])\n",
            "df_imp['kilometrage'].isna().sum()"
         ]
      },
      {
         "cell_type": "markdown",
         "metadata": {},
         "source": [
            "#### annee-model"
         ]
      },
      {
         "cell_type": "code",
         "execution_count": 930,
         "metadata": {},
         "outputs": [
            {
               "data": {
                  "text/plain": [
                     "np.int64(0)"
                  ]
               },
               "execution_count": 930,
               "metadata": {},
               "output_type": "execute_result"
            }
         ],
         "source": [
            "df_imp['annee-modele'] = df_imp['annee-modele'].fillna(df_imp['annee-modele'].mode()[0])\n",
            "df_imp['annee-modele'].isna().sum()"
         ]
      },
      {
         "cell_type": "markdown",
         "metadata": {},
         "source": [
            "#### etat"
         ]
      },
      {
         "cell_type": "markdown",
         "metadata": {},
         "source": [
            "L'état est liée au kilométrage. Alors on impute cette état à partir du valeur\n",
            "du kilométrage.\n",
            "\n",
            "On test trois modèle pour prédire l'etat à partir de kilométrage et on choisit\n",
            "celui qui prédit le mieux."
         ]
      },
      {
         "cell_type": "markdown",
         "metadata": {},
         "source": [
            "##### **Random Forest**"
         ]
      },
      {
         "cell_type": "code",
         "execution_count": 931,
         "metadata": {},
         "outputs": [
            {
               "name": "stdout",
               "output_type": "stream",
               "text": [
                  "              precision    recall  f1-score   support\n",
                  "\n",
                  "         Bon       0.42      0.04      0.07      1352\n",
                  "     Correct       0.00      0.00      0.00       199\n",
                  "   Endommagé       0.00      0.00      0.00         4\n",
                  "   Excellent       0.50      0.78      0.61      4246\n",
                  "        Neuf       0.00      0.00      0.00       337\n",
                  " Pour Pièces       0.00      0.00      0.00         6\n",
                  "    Très bon       0.44      0.36      0.40      3555\n",
                  "\n",
                  "    accuracy                           0.48      9699\n",
                  "   macro avg       0.19      0.17      0.15      9699\n",
                  "weighted avg       0.44      0.48      0.42      9699\n",
                  "\n"
               ]
            }
         ],
         "source": [
            "from sklearn.model_selection import train_test_split\n",
            "from sklearn.preprocessing import LabelEncoder\n",
            "from sklearn.ensemble import RandomForestClassifier\n",
            "from sklearn.metrics import classification_report\n",
            "\n",
            "tmp_df = df_imp.copy()\n",
            "tmp_df = tmp_df[tmp_df['etat'].notna() & tmp_df['kilometrage'].notna()]\n",
            "\n",
            "# Encodage de la variable 'etat' en valeurs numériques\n",
            "le = LabelEncoder()\n",
            "tmp_df['etat_encoded'] = le.fit_transform(tmp_df['etat'])\n",
            "\n",
            "X = tmp_df[['kilometrage']]\n",
            "y = tmp_df['etat_encoded'] \n",
            "\n",
            "X_train, X_test, y_train, y_test = train_test_split(X, y, test_size=0.3, random_state=42)\n",
            "\n",
            "rf_model = RandomForestClassifier()\n",
            "rf_model.fit(X_train, y_train)\n",
            "\n",
            "y_pred = rf_model.predict(X_test)\n",
            "\n",
            "print(classification_report(y_test, y_pred, target_names=le.classes_, zero_division=0))"
         ]
      },
      {
         "cell_type": "markdown",
         "metadata": {},
         "source": [
            "##### **Linear Regression**"
         ]
      },
      {
         "cell_type": "code",
         "execution_count": 932,
         "metadata": {},
         "outputs": [
            {
               "name": "stdout",
               "output_type": "stream",
               "text": [
                  "              precision    recall  f1-score   support\n",
                  "\n",
                  " Pour Pièces       0.00      0.00      0.00         4\n",
                  "   Endommagé       0.00      0.00      0.00         2\n",
                  "     Correct       0.00      0.00      0.00       137\n",
                  "         Bon       0.00      0.00      0.00       935\n",
                  "    Très bon       0.38      0.84      0.52      2364\n",
                  "   Excellent       0.41      0.17      0.25      2795\n",
                  "        Neuf       0.00      0.00      0.00       229\n",
                  "\n",
                  "    accuracy                           0.38      6466\n",
                  "   macro avg       0.11      0.14      0.11      6466\n",
                  "weighted avg       0.31      0.38      0.30      6466\n",
                  "\n"
               ]
            }
         ],
         "source": [
            "from sklearn.model_selection import train_test_split\n",
            "from sklearn.linear_model import LinearRegression\n",
            "from sklearn.metrics import classification_report\n",
            "\n",
            "etat_order = [\n",
            "    'Pour Pièces',\n",
            "    'Endommagé',\n",
            "    'Correct',\n",
            "    'Bon',\n",
            "    'Très bon',\n",
            "    'Excellent',\n",
            "    'Neuf'\n",
            "]\n",
            "\n",
            "etat_map = {etat: i for i, etat in enumerate(etat_order)}\n",
            "inv_etat_map = {v: k for k, v in etat_map.items()}\n",
            "\n",
            "df = df_imp.copy()\n",
            "\n",
            "df = df[df['etat'].notna() & df['kilometrage'].notna()]\n",
            "df['etat_encoded'] = df['etat'].map(etat_map)\n",
            "\n",
            "X = df[['kilometrage']]\n",
            "y = df['etat_encoded']\n",
            "\n",
            "X_train, X_test, y_train, y_test = train_test_split(X, y, test_size=0.2, random_state=42)\n",
            "\n",
            "lr_model = LinearRegression()\n",
            "lr_model.fit(X_train, y_train)\n",
            "\n",
            "y_pred = lr_model.predict(X_test)\n",
            "y_pred_rounded = y_pred.round().clip(0, len(etat_order) - 1).astype(int)\n",
            "\n",
            "y_test_labels = y_test.map(inv_etat_map)\n",
            "y_pred_labels = pd.Series(y_pred_rounded).map(inv_etat_map)\n",
            "\n",
            "print(classification_report(y_test_labels, y_pred_labels, labels=etat_order, zero_division=0))"
         ]
      },
      {
         "cell_type": "markdown",
         "metadata": {},
         "source": [
            "##### **Decision Tree**"
         ]
      },
      {
         "cell_type": "code",
         "execution_count": 933,
         "metadata": {},
         "outputs": [
            {
               "name": "stdout",
               "output_type": "stream",
               "text": [
                  "              precision    recall  f1-score   support\n",
                  "\n",
                  " Pour Pièces       0.00      0.00      0.00         4\n",
                  "   Endommagé       0.00      0.00      0.00         2\n",
                  "     Correct       0.00      0.00      0.00       137\n",
                  "         Bon       0.00      0.00      0.00       935\n",
                  "    Très bon       0.38      0.81      0.52      2364\n",
                  "   Excellent       0.56      0.29      0.38      2795\n",
                  "        Neuf       0.00      0.00      0.00       229\n",
                  "\n",
                  "    accuracy                           0.42      6466\n",
                  "   macro avg       0.13      0.16      0.13      6466\n",
                  "weighted avg       0.38      0.42      0.35      6466\n",
                  "\n"
               ]
            }
         ],
         "source": [
            "from sklearn.tree import DecisionTreeRegressor\n",
            "from sklearn.metrics import classification_report\n",
            "\n",
            "etat_order = [\n",
            "    'Pour Pièces', 'Endommagé', 'Correct', 'Bon',\n",
            "    'Très bon', 'Excellent', 'Neuf'\n",
            "]\n",
            "\n",
            "etat_map = {etat: i for i, etat in enumerate(etat_order)}\n",
            "inv_etat_map = {v: k for k, v in etat_map.items()}\n",
            "\n",
            "df = df_imp.copy()\n",
            "\n",
            "df = df[df['etat'].notna() & df['kilometrage'].notna()]\n",
            "df['etat_encoded'] = df['etat'].map(etat_map)\n",
            "\n",
            "X = df[['kilometrage']]\n",
            "y = df['etat_encoded']\n",
            "\n",
            "X_train, X_test, y_train, y_test = train_test_split(\n",
            "    X, y, test_size=0.2, random_state=42)\n",
            "\n",
            "dt_model = DecisionTreeRegressor(max_depth=5, random_state=42)\n",
            "dt_model.fit(X_train, y_train)\n",
            "\n",
            "y_pred = dt_model.predict(X_test)\n",
            "y_pred_rounded = y_pred.round().clip(0, len(etat_order) - 1).astype(int)\n",
            "\n",
            "y_test_labels = y_test.map(inv_etat_map)\n",
            "y_pred_labels = pd.Series(y_pred_rounded).map(inv_etat_map)\n",
            "\n",
            "print(classification_report(y_test_labels, y_pred_labels, labels=etat_order, zero_division=0))"
         ]
      },
      {
         "cell_type": "markdown",
         "metadata": {},
         "source": [
            "#### **Conclusion**\n",
            "\n",
            "Le modèle Decision Tree nous donne une précision dans les deux classes (Très Bon et Excellent) plus mieux que LinearRegression et RandomForest."
         ]
      },
      {
         "cell_type": "markdown",
         "metadata": {},
         "source": [
            "#### **Imputation de etat avec Decision Tree**"
         ]
      },
      {
         "cell_type": "code",
         "execution_count": 934,
         "metadata": {},
         "outputs": [
            {
               "data": {
                  "text/plain": [
                     "array(['Très bon', 'Excellent'], dtype=object)"
                  ]
               },
               "execution_count": 934,
               "metadata": {},
               "output_type": "execute_result"
            }
         ],
         "source": [
            "df_etat = df_imp.copy()\n",
            "\n",
            "etat_null_df = df_imp[df_imp['etat'].isna()]\n",
            "y_pred = dt_model.predict(etat_null_df[['kilometrage']])\n",
            "etat_pred = pd.Series(y_pred).round().clip(0, len(etat_order) - 1).astype(int)\n",
            "etat_pred_labels = etat_pred.map(inv_etat_map)\n",
            "etat_pred_labels.unique()"
         ]
      },
      {
         "cell_type": "code",
         "execution_count": 935,
         "metadata": {},
         "outputs": [
            {
               "data": {
                  "text/plain": [
                     "np.int64(0)"
                  ]
               },
               "execution_count": 935,
               "metadata": {},
               "output_type": "execute_result"
            }
         ],
         "source": [
            "df_etat.loc[df_imp['etat'].isna(), 'etat'] = etat_pred_labels.values\n",
            "df_etat['etat'].isna().sum()"
         ]
      },
      {
         "cell_type": "markdown",
         "metadata": {},
         "source": [
            "#### marque"
         ]
      },
      {
         "cell_type": "markdown",
         "metadata": {},
         "source": [
            "On remarque que parfois, la marque est incluse dans le titre de l'annonce des voitures.\n",
            "\n",
            "Alors, on impute la marque à partir du titre en cherchant si elle existe une marque -de celles\n",
            "déja presente dans le dataset- dans le titre, si oui on precède à l'imputation."
         ]
      },
      {
         "cell_type": "code",
         "execution_count": 936,
         "metadata": {},
         "outputs": [
            {
               "name": "stdout",
               "output_type": "stream",
               "text": [
                  "Missing values in 'marque' before: 571\n",
                  "Missing values in 'marque' after: 515\n"
               ]
            }
         ],
         "source": [
            "df_marque = df_etat.copy()\n",
            "\n",
            "marques = df_marque['marque'].str.lower().dropna().unique()\n",
            "\n",
            "def fill_missing_marques(df, marques):\n",
            "    mask = df['marque'].isna()\n",
            "    titres = df.loc[mask, 'titre'].str.lower().fillna('')\n",
            "    for m in marques:\n",
            "        match = titres.str.contains(m, na=False)\n",
            "        df.loc[mask & match, 'marque'] = m\n",
            "\n",
            "print(\"Missing values in 'marque' before:\", df_marque['marque'].isna().sum())\n",
            "fill_missing_marques(df_marque, marques)\n",
            "print(\"Missing values in 'marque' after:\", df_marque['marque'].isna().sum())"
         ]
      },
      {
         "cell_type": "markdown",
         "metadata": {},
         "source": [
            "#### **boite-a-vitesse**"
         ]
      },
      {
         "cell_type": "code",
         "execution_count": 937,
         "metadata": {},
         "outputs": [
            {
               "data": {
                  "text/plain": [
                     "np.int64(0)"
                  ]
               },
               "execution_count": 937,
               "metadata": {},
               "output_type": "execute_result"
            }
         ],
         "source": [
            "df_boite = df_marque.copy()\n",
            "\n",
            "simpleImputer = SimpleImputer(strategy='most_frequent')\n",
            "df_boite['boite-de-vitesses'] = simpleImputer.fit_transform(df_boite[['boite-de-vitesses']]).ravel()\n",
            "df_boite['boite-de-vitesses'].isna().sum()"
         ]
      },
      {
         "cell_type": "markdown",
         "metadata": {},
         "source": [
            "#### **premiere-main**"
         ]
      },
      {
         "cell_type": "code",
         "execution_count": 938,
         "metadata": {},
         "outputs": [
            {
               "data": {
                  "text/plain": [
                     "np.int64(0)"
                  ]
               },
               "execution_count": 938,
               "metadata": {},
               "output_type": "execute_result"
            }
         ],
         "source": [
            "df_prem = df_boite.copy()\n",
            "\n",
            "simpleImputer = SimpleImputer(strategy='most_frequent')\n",
            "df_prem['premiere-main'] = simpleImputer.fit_transform(df_prem[['premiere-main']]).ravel()\n",
            "df_prem['premiere-main'].isna().sum()"
         ]
      },
      {
         "cell_type": "markdown",
         "metadata": {},
         "source": [
            "#### **puissqnce-fiscale**"
         ]
      },
      {
         "cell_type": "code",
         "execution_count": 939,
         "metadata": {},
         "outputs": [
            {
               "data": {
                  "text/plain": [
                     "np.int64(0)"
                  ]
               },
               "execution_count": 939,
               "metadata": {},
               "output_type": "execute_result"
            }
         ],
         "source": [
            "df_puiss = df_prem.copy()\n",
            "\n",
            "simpleImputer = SimpleImputer(strategy='most_frequent')\n",
            "df_puiss['puissance-fiscale'] = simpleImputer.fit_transform(\n",
            "    df_puiss[['puissance-fiscale']]).ravel()\n",
            "df_puiss['puissance-fiscale'].isna().sum()"
         ]
      },
      {
         "cell_type": "code",
         "execution_count": 940,
         "metadata": {},
         "outputs": [
            {
               "data": {
                  "text/plain": [
                     "titre                                 345\n",
                     "localisation                          461\n",
                     "prix                                  463\n",
                     "annee-modele                            0\n",
                     "boite-de-vitesses                       0\n",
                     "type-de-carburant                       0\n",
                     "kilometrage                             0\n",
                     "marque                                515\n",
                     "modele                                571\n",
                     "nombre-de-portes                        0\n",
                     "origine                                 0\n",
                     "premiere-main                           0\n",
                     "puissance-fiscale                       0\n",
                     "etat                                    0\n",
                     "abs                                     0\n",
                     "airbags                                 0\n",
                     "cd-mp3-bluetooth                        0\n",
                     "camera-de-recul                         0\n",
                     "climatisation                           0\n",
                     "esp                                     0\n",
                     "jantes-aluminium                        0\n",
                     "limiteur-de-vitesse                     0\n",
                     "ordinateur-de-bord                      0\n",
                     "radar-de-recul                          0\n",
                     "regulateur-de-vitesse                   0\n",
                     "sieges-cuir                             0\n",
                     "systeme-de-navigation-gps               0\n",
                     "toit-ouvrant                            0\n",
                     "verrouillage-centralise-a-distance      0\n",
                     "vitres-electriques                      0\n",
                     "dtype: int64"
                  ]
               },
               "execution_count": 940,
               "metadata": {},
               "output_type": "execute_result"
            }
         ],
         "source": [
            "df_puiss.isna().sum()"
         ]
      },
      {
         "cell_type": "markdown",
         "metadata": {},
         "source": [
            "### **Suppression des valeurs nulles**"
         ]
      },
      {
         "cell_type": "code",
         "execution_count": 941,
         "metadata": {},
         "outputs": [
            {
               "name": "stdout",
               "output_type": "stream",
               "text": [
                  "Index(['titre', 'localisation', 'prix', 'marque', 'modele'], dtype='object')\n"
               ]
            }
         ],
         "source": [
            "sub_set = df_puiss.isna().sum().where(lambda x: x > 0).dropna().index\n",
            "print(sub_set)\n",
            "df_puiss = df_puiss.dropna(subset=sub_set)"
         ]
      },
      {
         "cell_type": "code",
         "execution_count": 942,
         "metadata": {},
         "outputs": [
            {
               "name": "stdout",
               "output_type": "stream",
               "text": [
                  "(33628, 30)\n"
               ]
            }
         ],
         "source": [
            "df_puiss.isna().sum().where(lambda x : x > 0).dropna()\n",
            "print(df_puiss.shape)"
         ]
      },
      {
         "cell_type": "markdown",
         "metadata": {},
         "source": [
            "### **Ajout des colonnnes**"
         ]
      },
      {
         "cell_type": "markdown",
         "metadata": {},
         "source": [
            "**Age**"
         ]
      },
      {
         "cell_type": "code",
         "execution_count": 943,
         "metadata": {},
         "outputs": [],
         "source": [
            "df_add = df_puiss.copy()\n",
            "\n",
            "df_add['age'] = 2025 - df_puiss['annee-modele']"
         ]
      },
      {
         "cell_type": "markdown",
         "metadata": {},
         "source": [
            "### **Suppression des colonnes**"
         ]
      },
      {
         "cell_type": "code",
         "execution_count": 944,
         "metadata": {},
         "outputs": [
            {
               "data": {
                  "text/plain": [
                     "(33628, 28)"
                  ]
               },
               "execution_count": 944,
               "metadata": {},
               "output_type": "execute_result"
            }
         ],
         "source": [
            "cols = ['titre', 'localisation', 'annee-modele']\n",
            "\n",
            "df_suppr = df_add.drop(columns=cols)\n",
            "\n",
            "df_suppr.shape"
         ]
      },
      {
         "cell_type": "markdown",
         "metadata": {},
         "source": [
            "### **Valeurs aberrantes**"
         ]
      },
      {
         "cell_type": "code",
         "execution_count": 945,
         "metadata": {},
         "outputs": [],
         "source": [
            "df_aberr = df_suppr.copy()"
         ]
      },
      {
         "cell_type": "code",
         "execution_count": 946,
         "metadata": {},
         "outputs": [
            {
               "data": {
                  "image/png": "[encoded data removed]",
                  "text/plain": [
                     "<Figure size 1400x500 with 3 Axes>"
                  ]
               },
               "metadata": {},
               "output_type": "display_data"
            }
         ],
         "source": [
            "cols = ['prix', 'kilometrage', 'age']\n",
            "df_aberr[cols].plot(kind='box', subplots=True, layout=(1, len(cols)), figsize=(14, 5));"
         ]
      },
      {
         "cell_type": "markdown",
         "metadata": {},
         "source": [
            "#### **Prix**"
         ]
      },
      {
         "cell_type": "markdown",
         "metadata": {},
         "source": [
            "##### **Methode de l'interquartile**"
         ]
      },
      {
         "cell_type": "code",
         "execution_count": 947,
         "metadata": {},
         "outputs": [
            {
               "name": "stdout",
               "output_type": "stream",
               "text": [
                  "(33628, 28)\n",
                  "(31538, 28)\n"
               ]
            },
            {
               "data": {
                  "text/html": [
                     "<div>\n",
                     "<style scoped>\n",
                     "    .dataframe tbody tr th:only-of-type {\n",
                     "        vertical-align: middle;\n",
                     "    }\n",
                     "\n",
                     "    .dataframe tbody tr th {\n",
                     "        vertical-align: top;\n",
                     "    }\n",
                     "\n",
                     "    .dataframe thead th {\n",
                     "        text-align: right;\n",
                     "    }\n",
                     "</style>\n",
                     "<table border=\"1\" class=\"dataframe\">\n",
                     "  <thead>\n",
                     "    <tr style=\"text-align: right;\">\n",
                     "      <th></th>\n",
                     "      <th>count</th>\n",
                     "      <th>mean</th>\n",
                     "      <th>std</th>\n",
                     "      <th>min</th>\n",
                     "      <th>25%</th>\n",
                     "      <th>50%</th>\n",
                     "      <th>75%</th>\n",
                     "      <th>max</th>\n",
                     "    </tr>\n",
                     "  </thead>\n",
                     "  <tbody>\n",
                     "    <tr>\n",
                     "      <th>prix</th>\n",
                     "      <td>31538.0</td>\n",
                     "      <td>118588.334137</td>\n",
                     "      <td>72932.367236</td>\n",
                     "      <td>450.0</td>\n",
                     "      <td>60000.0</td>\n",
                     "      <td>105000.0</td>\n",
                     "      <td>159999.0</td>\n",
                     "      <td>340000.0</td>\n",
                     "    </tr>\n",
                     "  </tbody>\n",
                     "</table>\n",
                     "</div>"
                  ],
                  "text/plain": [
                     "        count           mean           std    min      25%       50%  \\\n",
                     "prix  31538.0  118588.334137  72932.367236  450.0  60000.0  105000.0   \n",
                     "\n",
                     "           75%       max  \n",
                     "prix  159999.0  340000.0  "
                  ]
               },
               "execution_count": 947,
               "metadata": {},
               "output_type": "execute_result"
            }
         ],
         "source": [
            "# isr is not suitable for skewed data\n",
            "\n",
            "q1 = df_aberr['prix'].quantile(0.25)\n",
            "q3 = df_aberr['prix'].quantile(0.75)\n",
            "iqr = q3 - q1\n",
            "min = q1 - 1.5 * iqr\n",
            "max = q3 + 1.5 * iqr\n",
            "df_iqr = df_aberr[(df_aberr['prix'] >= min ) & (df_aberr['prix'] <= max)]\n",
            "print(df_aberr.shape)\n",
            "print(df_iqr.shape)\n",
            "df_iqr['prix'].describe().to_frame().T"
         ]
      },
      {
         "cell_type": "markdown",
         "metadata": {},
         "source": [
            "##### **Isolation Forest**"
         ]
      },
      {
         "cell_type": "code",
         "execution_count": 948,
         "metadata": {},
         "outputs": [
            {
               "name": "stdout",
               "output_type": "stream",
               "text": [
                  "Before: (32328, 31)\n",
                  "After : (32282, 28)\n"
               ]
            },
            {
               "data": {
                  "text/html": [
                     "<div>\n",
                     "<style scoped>\n",
                     "    .dataframe tbody tr th:only-of-type {\n",
                     "        vertical-align: middle;\n",
                     "    }\n",
                     "\n",
                     "    .dataframe tbody tr th {\n",
                     "        vertical-align: top;\n",
                     "    }\n",
                     "\n",
                     "    .dataframe thead th {\n",
                     "        text-align: right;\n",
                     "    }\n",
                     "</style>\n",
                     "<table border=\"1\" class=\"dataframe\">\n",
                     "  <thead>\n",
                     "    <tr style=\"text-align: right;\">\n",
                     "      <th></th>\n",
                     "      <th>count</th>\n",
                     "      <th>mean</th>\n",
                     "      <th>std</th>\n",
                     "      <th>min</th>\n",
                     "      <th>25%</th>\n",
                     "      <th>50%</th>\n",
                     "      <th>75%</th>\n",
                     "      <th>max</th>\n",
                     "    </tr>\n",
                     "  </thead>\n",
                     "  <tbody>\n",
                     "    <tr>\n",
                     "      <th>prix</th>\n",
                     "      <td>32282.0</td>\n",
                     "      <td>125466.882721</td>\n",
                     "      <td>82461.402176</td>\n",
                     "      <td>11700.0</td>\n",
                     "      <td>62000.0</td>\n",
                     "      <td>110000.0</td>\n",
                     "      <td>165000.0</td>\n",
                     "      <td>415000.0</td>\n",
                     "    </tr>\n",
                     "  </tbody>\n",
                     "</table>\n",
                     "</div>"
                  ],
                  "text/plain": [
                     "        count           mean           std      min      25%       50%  \\\n",
                     "prix  32282.0  125466.882721  82461.402176  11700.0  62000.0  110000.0   \n",
                     "\n",
                     "           75%       max  \n",
                     "prix  165000.0  415000.0  "
                  ]
               },
               "execution_count": 948,
               "metadata": {},
               "output_type": "execute_result"
            }
         ],
         "source": [
            "# iso is suitable for skewed data\n",
            "\n",
            "df_iso = df_aberr.copy()\n",
            "\n",
            "# 4% of data flagged as outliers\n",
            "iso = IsolationForest(contamination=0.04, random_state=42)\n",
            "df_iso['outlier'] = iso.fit_predict(df_aberr[['prix']])\n",
            "\n",
            "# Identify outliers for visualization (before filtering)\n",
            "outliers = df_iso['outlier'] == -1  # Boolean mask for outliers\n",
            "\n",
            "# Filter out the outliers (keep rows where outlier == 1) and drop the 'outlier' column\n",
            "df_iso = df_iso[df_iso['outlier'] == 1].drop(columns='outlier')\n",
            "\n",
            "print(\"Before:\", df.shape)\n",
            "print(\"After :\", df_iso.shape)\n",
            "\n",
            "df_iso['prix'].describe().to_frame().T"
         ]
      },
      {
         "cell_type": "code",
         "execution_count": 949,
         "metadata": {},
         "outputs": [
            {
               "data": {
                  "text/plain": [
                     "Text(0.5, 1.0, 'Isolation Forest Method')"
                  ]
               },
               "execution_count": 949,
               "metadata": {},
               "output_type": "execute_result"
            },
            {
               "data": {
                  "image/png": "[encoded data removed]",
                  "text/plain": [
                     "<Figure size 1000x500 with 2 Axes>"
                  ]
               },
               "metadata": {},
               "output_type": "display_data"
            }
         ],
         "source": [
            "_, (ax1, ax2) = plt.subplots(1, 2, figsize=(10, 5))\n",
            "sns.boxplot(df_iqr, y='prix', ax=ax1)\n",
            "ax1.set_title('IQR Method')\n",
            "\n",
            "sns.boxplot(df_iso, y='prix', ax=ax2)\n",
            "ax2.set_title('Isolation Forest Method')"
         ]
      },
      {
         "cell_type": "markdown",
         "metadata": {},
         "source": [
            "### **Data cleaned**"
         ]
      },
      {
         "cell_type": "code",
         "execution_count": 950,
         "metadata": {},
         "outputs": [],
         "source": [
            "df_final = df_iso.copy()\n",
            "df_final.to_csv('data/data_cleaned.csv', index=False)"
         ]
      }
   ],
   "metadata": {
      "kernelspec": {
         "display_name": "Python 3",
         "language": "python",
         "name": "python3"
      },
      "language_info": {
         "codemirror_mode": {
            "name": "ipython",
            "version": 3
         },
         "file_extension": ".py",
         "mimetype": "text/x-python",
         "name": "python",
         "nbconvert_exporter": "python",
         "pygments_lexer": "ipython3",
         "version": "3.12.4"
      }
   },
   "nbformat": 4,
   "nbformat_minor": 2
}
